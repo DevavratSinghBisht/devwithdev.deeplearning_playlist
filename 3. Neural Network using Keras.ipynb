{
 "cells": [
  {
   "cell_type": "markdown",
   "metadata": {
    "id": "lcYiKcoZj5Ps"
   },
   "source": [
    "# Neural Network using Keras"
   ]
  },
  {
   "cell_type": "markdown",
   "metadata": {
    "id": "9Afry5WkkCa_"
   },
   "source": [
    "## Libraries\n",
    "Tensorflow : TensorFlow is a free and open-source software library for machine learning.\n",
    "\n",
    "Keras : TensorFlow is a free and open-source software library for machine learning.\n",
    "\n",
    "---\n",
    "\n",
    "We are goint to use Input and Dense Layers for this tutorial.\n",
    "\n",
    "Sequential Model will be built using these layers."
   ]
  },
  {
   "cell_type": "code",
   "execution_count": 16,
   "metadata": {
    "id": "jgnnpFwJeLOP"
   },
   "outputs": [],
   "source": [
    "import tensorflow as tf\n",
    "from keras.layers import Input, Dense\n",
    "from keras.models import Sequential\n",
    "\n",
    "\n",
    "from sklearn.datasets import load_iris\n",
    "from sklearn.preprocessing import StandardScaler\n",
    "from sklearn.model_selection import train_test_split\n",
    "import numpy as np\n",
    "import pandas as pd\n",
    "import matplotlib.pyplot as plt\n",
    "%matplotlib inline"
   ]
  },
  {
   "cell_type": "markdown",
   "metadata": {
    "id": "RU-OeWuVr4Cd"
   },
   "source": [
    "## About Data\n",
    "We are using Iris dataset, it consists of 5 columns Sepal Length, Sepal Width, Petal Length, Petal Width and the Target column.\n",
    "\n",
    "The Target column consits of 3 species i.e. Setosa, Versicolor and Virginica.\n",
    "We have to predict the species of a flower based on the data from other 4 columns."
   ]
  },
  {
   "cell_type": "code",
   "execution_count": 17,
   "metadata": {
    "colab": {
     "base_uri": "https://localhost:8080/"
    },
    "id": "TlDieRRNswpn",
    "outputId": "32ee81aa-4e5c-416a-b96f-d5ab733c528c"
   },
   "outputs": [
    {
     "data": {
      "text/plain": [
       "array(['setosa', 'versicolor', 'virginica'], dtype='<U10')"
      ]
     },
     "execution_count": 17,
     "metadata": {
      "tags": []
     },
     "output_type": "execute_result"
    }
   ],
   "source": [
    "iris = load_iris()\n",
    "iris.target_names"
   ]
  },
  {
   "cell_type": "code",
   "execution_count": 18,
   "metadata": {
    "id": "FgQgsNVneqQB"
   },
   "outputs": [],
   "source": [
    "# loading data\n",
    "X = iris.data\n",
    "y = iris.target\n",
    "\n",
    "# getting number of targets and their names\n",
    "class_names = iris.target_names\n",
    "no_of_class = len(class_names)"
   ]
  },
  {
   "cell_type": "code",
   "execution_count": 19,
   "metadata": {
    "id": "hKrRJHewh0e8"
   },
   "outputs": [],
   "source": [
    "# scaling the data\n",
    "scaler = StandardScaler()\n",
    "scaler.fit(X)\n",
    "X = scaler.transform(X)\n",
    "\n",
    "# one hot encoding the target class (as it is the only categorical class)\n",
    "y_oh = np.eye(no_of_class)[y]"
   ]
  },
  {
   "cell_type": "code",
   "execution_count": 20,
   "metadata": {
    "id": "1Gra4iP8e93s"
   },
   "outputs": [],
   "source": [
    "# spliting data into train and test\n",
    "X_train, X_test, y_train, y_test = train_test_split(X, y_oh, test_size = 0.15)"
   ]
  },
  {
   "cell_type": "code",
   "execution_count": 21,
   "metadata": {
    "id": "J7JAZn4cjsXk"
   },
   "outputs": [],
   "source": [
    "# input shape for input layer\n",
    "input_shape = X_train.shape[1:]"
   ]
  },
  {
   "cell_type": "markdown",
   "metadata": {
    "id": "Dxfq14BEt4kI"
   },
   "source": [
    "## Building the Neural Network\n",
    "Our neural network will learn the paramaters necessary for the task by having a random prediction at the start and then optimizing the predictions by using optimizers, thus reducing the loss function and arriving at correct predictions."
   ]
  },
  {
   "cell_type": "code",
   "execution_count": 22,
   "metadata": {
    "id": "TcoRjc0oi6pI"
   },
   "outputs": [],
   "source": [
    "# input layer is used for taking an input of a given shape\n",
    "# Dense layers are the fully connented layers \n",
    "# i.e. each neuron of a given layer is connected to each neuron of the previous and next layer. \n",
    "# these layers are written in the sequence that they appear in the network\n",
    "# activation fucntions are used to impart non-linearity\n",
    "# if we non-linearity is not used then the whole neural network is as good as a linear regression model\n",
    "# this is because the linear combination of linear elements is always going to give a linear answer\n",
    "# thus a need of non-linearity was need to learn and approximate complex functions\n",
    "# the parameter 'units' defines the number of neurons peresent in that layer \n",
    "\n",
    "model = Sequential([\n",
    "              Input(shape = input_shape),\n",
    "              Dense(units=64, activation='relu'),\n",
    "              Dense(units=64, activation='relu'),\n",
    "              Dense(units=128, activation='relu'),\n",
    "              Dense(units=128, activation='relu'),\n",
    "              Dense(units=64, activation='relu'),\n",
    "              Dense(units=32, activation='relu'),\n",
    "              Dense(units=16, activation='relu'),\n",
    "              Dense(units=8, activation='relu'),\n",
    "              Dense(units=3, activation='softmax')\n",
    "])"
   ]
  },
  {
   "cell_type": "code",
   "execution_count": 23,
   "metadata": {
    "colab": {
     "base_uri": "https://localhost:8080/"
    },
    "id": "MiYpVsi6e-1-",
    "outputId": "1c9556cf-4d80-497a-cff2-5cb2ded47301"
   },
   "outputs": [
    {
     "name": "stdout",
     "output_type": "stream",
     "text": [
      "Model: \"sequential_1\"\n",
      "_________________________________________________________________\n",
      "Layer (type)                 Output Shape              Param #   \n",
      "=================================================================\n",
      "dense_9 (Dense)              (None, 64)                320       \n",
      "_________________________________________________________________\n",
      "dense_10 (Dense)             (None, 64)                4160      \n",
      "_________________________________________________________________\n",
      "dense_11 (Dense)             (None, 128)               8320      \n",
      "_________________________________________________________________\n",
      "dense_12 (Dense)             (None, 128)               16512     \n",
      "_________________________________________________________________\n",
      "dense_13 (Dense)             (None, 64)                8256      \n",
      "_________________________________________________________________\n",
      "dense_14 (Dense)             (None, 32)                2080      \n",
      "_________________________________________________________________\n",
      "dense_15 (Dense)             (None, 16)                528       \n",
      "_________________________________________________________________\n",
      "dense_16 (Dense)             (None, 8)                 136       \n",
      "_________________________________________________________________\n",
      "dense_17 (Dense)             (None, 3)                 27        \n",
      "=================================================================\n",
      "Total params: 40,339\n",
      "Trainable params: 40,339\n",
      "Non-trainable params: 0\n",
      "_________________________________________________________________\n"
     ]
    }
   ],
   "source": [
    "# summary of the model\n",
    "model.summary()"
   ]
  },
  {
   "cell_type": "code",
   "execution_count": 24,
   "metadata": {
    "id": "7b47HzT5foPJ"
   },
   "outputs": [],
   "source": [
    "# we need to compile the model before we can train it\n",
    "# optimizer are the algoritms that decide how the model will learn its parameters\n",
    "# loss function is calculated after each epoch and the model aims to minimize the loss functions\n",
    "# derivatives of loss functions is calculated with respect to the model parameters in order to optimize the parameters\n",
    "# metrics are used to know how good or bad our model is performing\n",
    "\n",
    "model.compile(optimizer='adam', loss='categorical_crossentropy', metrics=['accuracy'])"
   ]
  },
  {
   "cell_type": "code",
   "execution_count": 25,
   "metadata": {
    "colab": {
     "base_uri": "https://localhost:8080/"
    },
    "id": "tLu2Q1aofrjd",
    "outputId": "223d9394-f4d8-451f-ebec-80106a633212"
   },
   "outputs": [
    {
     "name": "stdout",
     "output_type": "stream",
     "text": [
      "Epoch 1/10\n",
      "4/4 [==============================] - 1s 69ms/step - loss: 1.0980 - accuracy: 0.3577 - val_loss: 1.0739 - val_accuracy: 0.6522\n",
      "Epoch 2/10\n",
      "4/4 [==============================] - 0s 14ms/step - loss: 1.0668 - accuracy: 0.6448 - val_loss: 1.0256 - val_accuracy: 0.6522\n",
      "Epoch 3/10\n",
      "4/4 [==============================] - 0s 14ms/step - loss: 1.0173 - accuracy: 0.6667 - val_loss: 0.9474 - val_accuracy: 0.6522\n",
      "Epoch 4/10\n",
      "4/4 [==============================] - 0s 14ms/step - loss: 0.9398 - accuracy: 0.7106 - val_loss: 0.8076 - val_accuracy: 0.9565\n",
      "Epoch 5/10\n",
      "4/4 [==============================] - 0s 13ms/step - loss: 0.8213 - accuracy: 0.8109 - val_loss: 0.6285 - val_accuracy: 0.7826\n",
      "Epoch 6/10\n",
      "4/4 [==============================] - 0s 14ms/step - loss: 0.6661 - accuracy: 0.8014 - val_loss: 0.4572 - val_accuracy: 0.7826\n",
      "Epoch 7/10\n",
      "4/4 [==============================] - 0s 16ms/step - loss: 0.5104 - accuracy: 0.8097 - val_loss: 0.3423 - val_accuracy: 0.8696\n",
      "Epoch 8/10\n",
      "4/4 [==============================] - 0s 14ms/step - loss: 0.4092 - accuracy: 0.8652 - val_loss: 0.2776 - val_accuracy: 0.9130\n",
      "Epoch 9/10\n",
      "4/4 [==============================] - 0s 13ms/step - loss: 0.3425 - accuracy: 0.8966 - val_loss: 0.2691 - val_accuracy: 0.8696\n",
      "Epoch 10/10\n",
      "4/4 [==============================] - 0s 13ms/step - loss: 0.2875 - accuracy: 0.9289 - val_loss: 0.2756 - val_accuracy: 0.9130\n"
     ]
    }
   ],
   "source": [
    "# for training the model we use fit function\n",
    "# epochs is the number of iterations the model has to go through\n",
    "# X_train and y_train is training data\n",
    "# X_test and y_test is validation data\n",
    "# the function returns the data about loss and metrics defined in the comiling stage\n",
    "# these data can be used to plot the learning curve ahead\n",
    "\n",
    "history = model.fit(X_train, y_train, epochs= 10, validation_data=(X_test,y_test))"
   ]
  },
  {
   "cell_type": "markdown",
   "metadata": {
    "id": "H_dTHMBjvrG-"
   },
   "source": [
    "## Visualizing the Learning Curve\n",
    "The loss and accuracy of the model at each epoch will be plotted to know if the model is learning correctly or not."
   ]
  },
  {
   "cell_type": "code",
   "execution_count": 26,
   "metadata": {
    "colab": {
     "base_uri": "https://localhost:8080/",
     "height": 295
    },
    "id": "zYzQwScvknq_",
    "outputId": "dda98063-6f84-4134-aa80-5f0fa1b89730"
   },
   "outputs": [
    {
     "data": {
      "image/png": "[encoded data removed]",
      "text/plain": [
       "<Figure size 432x288 with 1 Axes>"
      ]
     },
     "metadata": {
      "needs_background": "light",
      "tags": []
     },
     "output_type": "display_data"
    }
   ],
   "source": [
    "# plotting training and validation accuracy\n",
    "\n",
    "plt.plot(history.history['accuracy'])\n",
    "plt.plot(history.history['val_accuracy'])\n",
    "plt.title('Model Accuracy')\n",
    "plt.ylabel('accuracy')\n",
    "plt.xlabel('epochs')\n",
    "plt.legend(['train', 'val'], loc='upper left')\n",
    "plt.show()"
   ]
  },
  {
   "cell_type": "code",
   "execution_count": 27,
   "metadata": {
    "colab": {
     "base_uri": "https://localhost:8080/",
     "height": 295
    },
    "id": "4LpE_uAmnT70",
    "outputId": "44cae54c-fb4c-467d-c79f-6c2121bbed90"
   },
   "outputs": [
    {
     "data": {
      "image/png": "[encoded data removed]",
      "text/plain": [
       "<Figure size 432x288 with 1 Axes>"
      ]
     },
     "metadata": {
      "needs_background": "light",
      "tags": []
     },
     "output_type": "display_data"
    }
   ],
   "source": [
    "# plotting training and validation loss \n",
    "\n",
    "plt.plot(history.history['loss'])\n",
    "plt.plot(history.history['val_loss'])\n",
    "plt.title('Model Loss')\n",
    "plt.ylabel('loss')\n",
    "plt.xlabel('epochs')\n",
    "plt.legend(['train', 'val'], loc='upper left')\n",
    "plt.show()"
   ]
  },
  {
   "cell_type": "code",
   "execution_count": 28,
   "metadata": {
    "id": "Sckscpcankja"
   },
   "outputs": [],
   "source": [
    "# predict function is used to get predictions\n",
    "# independent variables as passed as input for making predictions\n",
    "# predictions are given as probabilities of each calss\n",
    "# we use np.argmax to get the index of highest probability\n",
    " \n",
    "predictions = model.predict(X_test)\n",
    "preds = []\n",
    "for i in predictions:\n",
    "  preds.append(np.argmax(i))\n",
    "\n",
    "targets = []\n",
    "for i in y_test:\n",
    "  targets.append(np.argmax(i))"
   ]
  },
  {
   "cell_type": "markdown",
   "metadata": {
    "id": "W3wU7SrBwBD1"
   },
   "source": [
    "## Making Predictions\n",
    "Now we will make predictions and see how good our model is performing."
   ]
  },
  {
   "cell_type": "code",
   "execution_count": 29,
   "metadata": {
    "colab": {
     "base_uri": "https://localhost:8080/"
    },
    "id": "IG7jpKlBn2k3",
    "outputId": "2abbc3c1-fa79-4561-cfe9-9ba12a6e4e26"
   },
   "outputs": [
    {
     "name": "stdout",
     "output_type": "stream",
     "text": [
      "Predictions          Targets\n",
      "                                \n",
      "\u001b[94m\n",
      "versicolor           versicolor                              \n",
      "\u001b[94m\n",
      "setosa               setosa                                  \n",
      "\u001b[94m\n",
      "setosa               setosa                                  \n",
      "\u001b[94m\n",
      "setosa               setosa                                  \n",
      "\u001b[94m\n",
      "setosa               setosa                                  \n",
      "\u001b[94m\n",
      "versicolor           versicolor                              \n",
      "\u001b[94m\n",
      "versicolor           versicolor                              \n",
      "\u001b[94m\n",
      "virginica            virginica                               \n",
      "\u001b[94m\n",
      "virginica            virginica                               \n",
      "\u001b[94m\n",
      "virginica            virginica                               \n",
      "\u001b[94m\n",
      "setosa               setosa                                  \n",
      "\u001b[91m\n",
      "virginica            versicolor                              \n",
      "\u001b[94m\n",
      "virginica            virginica                               \n",
      "\u001b[94m\n",
      "setosa               setosa                                  \n",
      "\u001b[94m\n",
      "virginica            virginica                               \n",
      "\u001b[94m\n",
      "setosa               setosa                                  \n",
      "\u001b[94m\n",
      "setosa               setosa                                  \n",
      "\u001b[94m\n",
      "virginica            virginica                               \n",
      "\u001b[94m\n",
      "versicolor           versicolor                              \n",
      "\u001b[94m\n",
      "setosa               setosa                                  \n",
      "\u001b[91m\n",
      "versicolor           virginica                               \n",
      "\u001b[94m\n",
      "virginica            virginica                               \n",
      "\u001b[94m\n",
      "versicolor           versicolor                              \n"
     ]
    }
   ],
   "source": [
    "# printing the predictions made\n",
    "# blue colour denote correct prediction and red denotes incorrect ones\n",
    "\n",
    "print (\"{:<20} {:<40}\".format('Predictions', 'Targets\\n'))\n",
    "\n",
    "c=0\n",
    "for i, j in zip(preds, targets):\n",
    "  if(i==j):\n",
    "    print('\\33[94m')\n",
    "  else:\n",
    "    c += 1\n",
    "    print('\\33[91m')\n",
    "  print (\"{:<20} {:<40}\".format(class_names[i], class_names[j]))"
   ]
  },
  {
   "cell_type": "code",
   "execution_count": 30,
   "metadata": {
    "colab": {
     "base_uri": "https://localhost:8080/"
    },
    "id": "k5JPF3y1oMIf",
    "outputId": "3ed60ace-96bc-46b7-86ce-2544b2c939c0"
   },
   "outputs": [
    {
     "name": "stdout",
     "output_type": "stream",
     "text": [
      "We can observe that, 2 out of 23 examples are classified incorrectly and 21 are correct.\n",
      "Test accuracy: 0.9130434782608695\n",
      "\u001b[91mNote that we have used the same data for test as well as validation and therefore the test and validation accuracy is same.\n"
     ]
    }
   ],
   "source": [
    "print('We can observe that, {} out of {} examples are classified incorrectly and {} are correct.'.format(c, len(preds), len(preds)-c))\n",
    "print('Test accuracy:', (len(preds)-c)/len(preds))\n",
    "print('\\33[91mNote that we have used the same data for test as well as validation and therefore the test and validation accuracy is same.')"
   ]
  }
 ],
 "metadata": {
  "colab": {
   "collapsed_sections": [],
   "name": "Iris NN.ipynb",
   "provenance": []
  },
  "kernelspec": {
   "display_name": "Python 3 (ipykernel)",
   "language": "python",
   "name": "python3"
  },
  "language_info": {
   "codemirror_mode": {
    "name": "ipython",
    "version": 3
   },
   "file_extension": ".py",
   "mimetype": "text/x-python",
   "name": "python",
   "nbconvert_exporter": "python",
   "pygments_lexer": "ipython3",
   "version": "3.9.12"
  }
 },
 "nbformat": 4,
 "nbformat_minor": 4
}
